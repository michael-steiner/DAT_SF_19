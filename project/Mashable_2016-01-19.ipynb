{
 "cells": [
  {
   "cell_type": "code",
   "execution_count": 21,
   "metadata": {
    "collapsed": false
   },
   "outputs": [],
   "source": [
    "import sklearn as sk\n",
    "import numpy as np\n",
    "import pandas as pd\n",
    "import csv"
   ]
  },
  {
   "cell_type": "code",
   "execution_count": 35,
   "metadata": {
    "collapsed": false
   },
   "outputs": [],
   "source": [
    "#Read in the data as a DataFrame\n",
    "df = pd.DataFrame.from_csv(\"/Users/msteiner/GA/OnlineNews_project/DataStore/data/OnlineNewsPopularity.csv\",sep=',',header=0,index_col=None)"
   ]
  },
  {
   "cell_type": "code",
   "execution_count": 36,
   "metadata": {
    "collapsed": false
   },
   "outputs": [],
   "source": [
    "#limit the number of records for code developement -- remove to run using full data set\n",
    "df = df[0:1000]\n"
   ]
  },
  {
   "cell_type": "code",
   "execution_count": 37,
   "metadata": {
    "collapsed": false
   },
   "outputs": [
    {
     "data": {
      "text/plain": [
       "array(['url', ' timedelta', ' n_tokens_title', ' n_tokens_content',\n",
       "       ' n_unique_tokens', ' n_non_stop_words',\n",
       "       ' n_non_stop_unique_tokens', ' num_hrefs', ' num_self_hrefs',\n",
       "       ' num_imgs', ' num_videos', ' average_token_length',\n",
       "       ' num_keywords', ' data_channel_is_lifestyle',\n",
       "       ' data_channel_is_entertainment', ' data_channel_is_bus',\n",
       "       ' data_channel_is_socmed', ' data_channel_is_tech',\n",
       "       ' data_channel_is_world', ' kw_min_min', ' kw_max_min',\n",
       "       ' kw_avg_min', ' kw_min_max', ' kw_max_max', ' kw_avg_max',\n",
       "       ' kw_min_avg', ' kw_max_avg', ' kw_avg_avg',\n",
       "       ' self_reference_min_shares', ' self_reference_max_shares',\n",
       "       ' self_reference_avg_sharess', ' weekday_is_monday',\n",
       "       ' weekday_is_tuesday', ' weekday_is_wednesday',\n",
       "       ' weekday_is_thursday', ' weekday_is_friday',\n",
       "       ' weekday_is_saturday', ' weekday_is_sunday', ' is_weekend',\n",
       "       ' LDA_00', ' LDA_01', ' LDA_02', ' LDA_03', ' LDA_04',\n",
       "       ' global_subjectivity', ' global_sentiment_polarity',\n",
       "       ' global_rate_positive_words', ' global_rate_negative_words',\n",
       "       ' rate_positive_words', ' rate_negative_words',\n",
       "       ' avg_positive_polarity', ' min_positive_polarity',\n",
       "       ' max_positive_polarity', ' avg_negative_polarity',\n",
       "       ' min_negative_polarity', ' max_negative_polarity',\n",
       "       ' title_subjectivity', ' title_sentiment_polarity',\n",
       "       ' abs_title_subjectivity', ' abs_title_sentiment_polarity',\n",
       "       ' shares'], dtype=object)"
      ]
     },
     "execution_count": 37,
     "metadata": {},
     "output_type": "execute_result"
    }
   ],
   "source": [
    "df.columns.values\n"
   ]
  },
  {
   "cell_type": "code",
   "execution_count": 38,
   "metadata": {
    "collapsed": false
   },
   "outputs": [],
   "source": [
    "#Take a subset of features based on Ren, Yang et al. \n",
    "# A feature selection process still must be done from scrtach -- ITEM TO BE DONE --\n",
    "df_ren = df[[' kw_avg_avg',' LDA_02',' data_channel_is_world',' is_weekend',' data_channel_is_socmed',' weekday_is_saturday',\n",
    "    ' LDA_04', ' data_channel_is_entertainment',' data_channel_is_tech',' kw_max_avg',' weekday_is_sunday',\n",
    "    ' LDA_00', ' num_hrefs',' global_subjectivity',' kw_avg_min',' title_sentiment_polarity',' rate_negative_words',\n",
    "   ' kw_min_avg',' title_subjectivity',' LDA_01']]"
   ]
  },
  {
   "cell_type": "code",
   "execution_count": 39,
   "metadata": {
    "collapsed": true
   },
   "outputs": [],
   "source": [
    "#the features\n",
    "features_ren = df_ren"
   ]
  },
  {
   "cell_type": "code",
   "execution_count": 40,
   "metadata": {
    "collapsed": true
   },
   "outputs": [],
   "source": [
    "#get the dependent variable \n",
    "target_ren = df[' shares']"
   ]
  },
  {
   "cell_type": "code",
   "execution_count": 41,
   "metadata": {
    "collapsed": false
   },
   "outputs": [],
   "source": [
    "#map continuous response variable to integral values\n",
    "#shares >= 1400 map to 1\n",
    "#shares < 1400 map to 0 \n",
    "\n",
    "target_ren_mapped = np.zeros(len(target_ren))\n",
    "counter = 0\n",
    "for ii in target_ren:\n",
    "    if ii >= 1400:\n",
    "        target_ren_mapped[counter] = 1\n",
    "    else:\n",
    "        target_ren_mapped[counter] = 0\n",
    "    counter += 1"
   ]
  },
  {
   "cell_type": "code",
   "execution_count": 45,
   "metadata": {
    "collapsed": false
   },
   "outputs": [],
   "source": [
    "# Standardize/normalize the features\n",
    "from sklearn import preprocessing\n",
    "scaler = preprocessing.StandardScaler().fit(df_ren)\n",
    "features_ren = scaler.transform(df_ren)"
   ]
  },
  {
   "cell_type": "code",
   "execution_count": 31,
   "metadata": {
    "collapsed": false
   },
   "outputs": [],
   "source": [
    "#normalize the data different method\n",
    "#columns_to_normalize = [' kw_avg_avg',' LDA_02',' data_channel_is_world',' is_weekend',' data_channel_is_socmed',' weekday_is_saturday',\n",
    "#    ' LDA_04', ' data_channel_is_entertainment',' data_channel_is_tech',' kw_max_avg',' weekday_is_sunday',\n",
    "#    ' LDA_00', ' num_hrefs',' global_subjectivity',' kw_avg_min',' title_sentiment_polarity',' rate_negative_words',\n",
    "#   ' kw_min_avg',' title_subjectivity',' LDA_01']\n",
    "#features_ren[columns_to_normalize] = features_ren[columns_to_normalize].apply(lambda x: (x - x.mean())/x.std())"
   ]
  },
  {
   "cell_type": "markdown",
   "metadata": {},
   "source": [
    "# SUPPORT VECTOR MACHINE\n",
    "### Linear Kernel"
   ]
  },
  {
   "cell_type": "code",
   "execution_count": 48,
   "metadata": {
    "collapsed": false
   },
   "outputs": [],
   "source": [
    "# import the SVM class\n",
    "from sklearn.svm import SVC\n",
    "svc_1 = SVC(kernel = 'linear')"
   ]
  },
  {
   "cell_type": "code",
   "execution_count": 49,
   "metadata": {
    "collapsed": false
   },
   "outputs": [],
   "source": [
    "#split data into test and training\n",
    "from sklearn.cross_validation import train_test_split\n",
    "features_ren_train, features_ren_test, target_ren_train, target_ren_test = train_test_split(\n",
    "features_ren, target_ren_mapped, test_size=0.25, random_state=0)"
   ]
  },
  {
   "cell_type": "code",
   "execution_count": 61,
   "metadata": {
    "collapsed": false
   },
   "outputs": [],
   "source": [
    "#employ K-fold cross validation \n",
    "from sklearn.cross_validation import cross_val_score, KFold\n",
    "from scipy.stats import sem\n",
    "\n",
    "def evaluate_cross_validation(clf, X, y, K):\n",
    "    cv = KFold(len(y),K, shuffle=True, random_state=0)\n",
    "    scores = cross_val_score(clf, X, y, cv=cv)\n",
    "    print scores\n",
    "    print((\"Mean score: {0:.3f} (+/-{1:.3f})\").format(np.mean(scores), sem(scores)))"
   ]
  },
  {
   "cell_type": "code",
   "execution_count": 62,
   "metadata": {
    "collapsed": false
   },
   "outputs": [
    {
     "name": "stdout",
     "output_type": "stream",
     "text": [
      "[ 0.57333333  0.58666667  0.64        0.60666667  0.6       ]\n",
      "Mean score: 0.601 (+/-0.011)\n"
     ]
    }
   ],
   "source": [
    "#show results of cross validation\n",
    "evaluate_cross_validation(svc_1 ,features_ren_train,target_ren_train,5)"
   ]
  },
  {
   "cell_type": "code",
   "execution_count": 52,
   "metadata": {
    "collapsed": true
   },
   "outputs": [],
   "source": [
    "from sklearn import metrics\n",
    "    \n",
    "def train_and_evaluate(clf, X_train, X_test, y_train, y_test):\n",
    "    clf.fit(X_train, y_train)\n",
    "    \n",
    "    print(\"Accuaracy on training set:\")\n",
    "    print(clf.score(X_train, y_train))\n",
    "    \n",
    "    y_pred = clf.predict(X_test)\n",
    "    print(\"Classification Report:\")\n",
    "    print(metrics.classification_report(y_test, y_pred))\n",
    "    print(\"Confusion Matrix\")\n",
    "    print(metrics.confusion_matrix(y_test, y_pred))"
   ]
  },
  {
   "cell_type": "code",
   "execution_count": 53,
   "metadata": {
    "collapsed": false
   },
   "outputs": [
    {
     "name": "stdout",
     "output_type": "stream",
     "text": [
      "Accuaracy on training set:\n",
      "0.609333333333\n",
      "Classification Report:\n",
      "             precision    recall  f1-score   support\n",
      "\n",
      "        0.0       0.52      0.71      0.60       110\n",
      "        1.0       0.68      0.49      0.57       140\n",
      "\n",
      "avg / total       0.61      0.59      0.59       250\n",
      "\n",
      "Confusion Matrix\n",
      "[[78 32]\n",
      " [71 69]]\n"
     ]
    }
   ],
   "source": [
    "#the overall model accuracy\n",
    "train_and_evaluate(svc_1,features_ren_train, features_ren_test, target_ren_train, target_ren_test)"
   ]
  },
  {
   "cell_type": "code",
   "execution_count": 54,
   "metadata": {
    "collapsed": false
   },
   "outputs": [],
   "source": [
    "y_pred = svc_1.predict(features_ren_test)"
   ]
  },
  {
   "cell_type": "code",
   "execution_count": 55,
   "metadata": {
    "collapsed": true
   },
   "outputs": [],
   "source": [
    "from sklearn import metrics"
   ]
  },
  {
   "cell_type": "code",
   "execution_count": 56,
   "metadata": {
    "collapsed": false
   },
   "outputs": [
    {
     "name": "stdout",
     "output_type": "stream",
     "text": [
      "             precision    recall  f1-score   support\n",
      "\n",
      "        0.0       0.52      0.71      0.60       110\n",
      "        1.0       0.68      0.49      0.57       140\n",
      "\n",
      "avg / total       0.61      0.59      0.59       250\n",
      "\n"
     ]
    }
   ],
   "source": [
    " print(metrics.classification_report(target_ren_test, y_pred))"
   ]
  },
  {
   "cell_type": "code",
   "execution_count": 57,
   "metadata": {
    "collapsed": false
   },
   "outputs": [
    {
     "name": "stdout",
     "output_type": "stream",
     "text": [
      "[[78 32]\n",
      " [71 69]]\n"
     ]
    }
   ],
   "source": [
    "print(metrics.confusion_matrix(target_ren_test, y_pred))"
   ]
  },
  {
   "cell_type": "markdown",
   "metadata": {
    "collapsed": true
   },
   "source": [
    "# SUPPORT VECTOR MACHINE\n",
    "\n",
    "### Polynomial Kernel of Degree 9"
   ]
  },
  {
   "cell_type": "code",
   "execution_count": 58,
   "metadata": {
    "collapsed": true
   },
   "outputs": [],
   "source": [
    "# import the SVM class\n",
    "from sklearn.svm import SVC\n",
    "svc_poly = SVC(kernel = 'poly', degree=9) #check regularization parameter"
   ]
  },
  {
   "cell_type": "code",
   "execution_count": 64,
   "metadata": {
    "collapsed": false
   },
   "outputs": [
    {
     "name": "stdout",
     "output_type": "stream",
     "text": [
      "[ 0.47333333  0.54        0.55333333  0.56        0.48666667]\n",
      "Mean score: 0.523 (+/-0.018)\n"
     ]
    }
   ],
   "source": [
    "#show results of cross validation\n",
    "evaluate_cross_validation(svc_poly ,features_ren_train,target_ren_train,5)"
   ]
  },
  {
   "cell_type": "code",
   "execution_count": 59,
   "metadata": {
    "collapsed": false
   },
   "outputs": [
    {
     "name": "stdout",
     "output_type": "stream",
     "text": [
      "Accuaracy on training set:\n",
      "0.701333333333\n",
      "Classification Report:\n",
      "             precision    recall  f1-score   support\n",
      "\n",
      "        0.0       0.47      0.85      0.60       110\n",
      "        1.0       0.67      0.23      0.34       140\n",
      "\n",
      "avg / total       0.58      0.50      0.46       250\n",
      "\n",
      "Confusion Matrix\n",
      "[[ 94  16]\n",
      " [108  32]]\n"
     ]
    }
   ],
   "source": [
    "#the overall model accuracy\n",
    "train_and_evaluate(svc_poly,features_ren_train, features_ren_test, target_ren_train, target_ren_test)"
   ]
  }
 ],
 "metadata": {
  "kernelspec": {
   "display_name": "Python 2",
   "language": "python",
   "name": "python2"
  },
  "language_info": {
   "codemirror_mode": {
    "name": "ipython",
    "version": 2
   },
   "file_extension": ".py",
   "mimetype": "text/x-python",
   "name": "python",
   "nbconvert_exporter": "python",
   "pygments_lexer": "ipython2",
   "version": "2.7.11"
  }
 },
 "nbformat": 4,
 "nbformat_minor": 0
}
